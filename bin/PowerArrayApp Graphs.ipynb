{
 "cells": [
  {
   "cell_type": "code",
   "execution_count": null,
   "metadata": {
    "collapsed": true
   },
   "outputs": [],
   "source": [
    "import numpy as np\n",
    "import matplotlib.pyplot as plt\n",
    "\n",
    "file = open (\"SpeedArray.csv\", \"r\")\n",
    "\n",
    "bestCase=[]\n",
    "worstCase=[]\n",
    "averageCase=[]\n",
    "\n",
    "for n in range (500):\n",
    "    s = file.readline()\n",
    "    a = np.array(s.split(\",\"))\n",
    "    \n",
    "    output = a.astype(np.int)\n",
    "    \n",
    "    bestCase.append(min(output))\n",
    "    worstCase.append(max(ouput))\n",
    "    averageCase.append(sum(output)//len(output))\n",
    "    \n",
    "N = np.arange(500)\n",
    "\n",
    "plt.plot(N, bestCase, 'g-')\n",
    "\n",
    "plt.title('Best Case')\n",
    "plt.xlabel('Number of Operations')\n",
    "plt.ylabel('Operations')\n",
    "\n",
    "plt.show()\n"
   ]
  },
  {
   "cell_type": "code",
   "execution_count": null,
   "metadata": {
    "collapsed": true
   },
   "outputs": [],
   "source": [
    "import numpy as np\n",
    "import matplotlib.pyplot as plt\n",
    "\n",
    "file = open (\"SpeedArray.csv\", \"r\")\n",
    "\n",
    "bestCase=[]\n",
    "worstCase=[]\n",
    "avgCase=[]\n",
    "\n",
    "for n in range (500):\n",
    "    s = file.readline()\n",
    "    a = np.array(s.split(\",\"))\n",
    "    \n",
    "    output = a.astype(np.int)\n",
    "    \n",
    "    bestCase.append(min(output))\n",
    "    worstCase.append(max(ouput))\n",
    "    avgCase.append(sum(output)//len(output))\n",
    "    \n",
    "N = np.arange(500)\n",
    "\n",
    "plt.plot(N, avgCase, 'g-')\n",
    "\n",
    "plt.title('Average Case')\n",
    "plt.xlabel('Number of Operations')\n",
    "plt.ylabel('Operations')\n",
    "\n",
    "plt.show()"
   ]
  },
  {
   "cell_type": "code",
   "execution_count": null,
   "metadata": {
    "collapsed": true
   },
   "outputs": [],
   "source": [
    "import numpy as np\n",
    "import matplotlib.pyplot as plt\n",
    "\n",
    "file = open (\"SpeedArray.csv\", \"r\")\n",
    "\n",
    "bestCase=[]\n",
    "worstCase=[]\n",
    "avgCase=[]\n",
    "\n",
    "for n in range (500):\n",
    "    s = file.readline()\n",
    "    a = np.array(s.split(\",\"))\n",
    "    \n",
    "    output = a.astype(np.int)\n",
    "    \n",
    "    bestCase.append(min(output))\n",
    "    worstCase.append(max(ouput))\n",
    "    avgCase.append(sum(output)//len(output))\n",
    "    \n",
    "N = np.arange(500)\n",
    "\n",
    "plt.plot(N, worstCase, 'g-')\n",
    "\n",
    "plt.title('Worst Case')\n",
    "plt.xlabel('Number of Operations')\n",
    "plt.ylabel('Operations')\n",
    "\n",
    "plt.show()"
   ]
  }
 ],
 "metadata": {
  "kernelspec": {
   "display_name": "Python 3",
   "language": "python",
   "name": "python3"
  },
  "language_info": {
   "codemirror_mode": {
    "name": "ipython",
    "version": 3
   },
   "file_extension": ".py",
   "mimetype": "text/x-python",
   "name": "python",
   "nbconvert_exporter": "python",
   "pygments_lexer": "ipython3",
   "version": "3.6.3"
  }
 },
 "nbformat": 4,
 "nbformat_minor": 2
}
